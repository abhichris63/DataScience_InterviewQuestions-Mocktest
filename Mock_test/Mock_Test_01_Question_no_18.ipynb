{
 "cells": [
  {
   "cell_type": "markdown",
   "id": "8358b8bc",
   "metadata": {},
   "source": [
    "18. Implement a decorator function called ‘timer’ that measures the execution time of a function. The ‘timer’ decorator should \n",
    "    print the time taken by the decorated function to execute. Use the ‘time’ module in Python to calculate the execution time.\n",
    "    \n",
    "Example:\n",
    "\n",
    "        import time\n",
    "        @timer\n",
    "        def my_function():\n",
    "            # Function code goes here\n",
    "            time.sleep(2)\n",
    "\n",
    "        my_function()\n",
    "\n",
    "        Output:\n",
    "        \"Execution time: 2.00123 seconds\""
   ]
  },
  {
   "cell_type": "code",
   "execution_count": 5,
   "id": "76397373",
   "metadata": {},
   "outputs": [
    {
     "name": "stdout",
     "output_type": "stream",
     "text": [
      "120\n",
      "Total time taken in :  factorial 2.0078587532043457\n"
     ]
    }
   ],
   "source": [
    "import time\n",
    "import math\n",
    "def calculate_time(func):\n",
    "\n",
    "    def my_func(*args, **kwargs):\n",
    "        begin = time.time()\n",
    "         \n",
    "        func(*args, **kwargs)\n",
    "        end = time.time()\n",
    "        print(\"Total time taken in : \", func.__name__, end - begin)\n",
    " \n",
    "    return my_func\n",
    "\n",
    "@calculate_time\n",
    "def factorial(num):\n",
    "    time.sleep(2)\n",
    "    print(math.factorial(num))\n",
    "\n",
    "factorial(5)"
   ]
  }
 ],
 "metadata": {
  "kernelspec": {
   "display_name": "Python 3 (ipykernel)",
   "language": "python",
   "name": "python3"
  },
  "language_info": {
   "codemirror_mode": {
    "name": "ipython",
    "version": 3
   },
   "file_extension": ".py",
   "mimetype": "text/x-python",
   "name": "python",
   "nbconvert_exporter": "python",
   "pygments_lexer": "ipython3",
   "version": "3.10.9"
  }
 },
 "nbformat": 4,
 "nbformat_minor": 5
}
